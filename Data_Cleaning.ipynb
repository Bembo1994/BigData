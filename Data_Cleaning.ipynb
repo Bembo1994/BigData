{
  "nbformat": 4,
  "nbformat_minor": 0,
  "metadata": {
    "colab": {
      "name": "Data Cleaning.ipynb",
      "provenance": []
    },
    "kernelspec": {
      "name": "python3",
      "display_name": "Python 3"
    },
    "language_info": {
      "name": "python"
    }
  },
  "cells": [
    {
      "cell_type": "markdown",
      "metadata": {
        "id": "9Oc_i4QIxZlw"
      },
      "source": [
        "Diamo una prima occhiata al dataset."
      ]
    },
    {
      "cell_type": "code",
      "metadata": {
        "colab": {
          "base_uri": "https://localhost:8080/",
          "height": 424
        },
        "id": "Noh8SMmTwOmP",
        "outputId": "3b13d060-cc8b-4671-870f-beac4f516747"
      },
      "source": [
        "import pandas as pd\n",
        "df_1 = pd.read_csv(\"./dataset/historical_stock_prices.csv\")\n",
        "df_1"
      ],
      "execution_count": 2,
      "outputs": [
        {
          "output_type": "execute_result",
          "data": {
            "text/html": [
              "<div>\n",
              "<style scoped>\n",
              "    .dataframe tbody tr th:only-of-type {\n",
              "        vertical-align: middle;\n",
              "    }\n",
              "\n",
              "    .dataframe tbody tr th {\n",
              "        vertical-align: top;\n",
              "    }\n",
              "\n",
              "    .dataframe thead th {\n",
              "        text-align: right;\n",
              "    }\n",
              "</style>\n",
              "<table border=\"1\" class=\"dataframe\">\n",
              "  <thead>\n",
              "    <tr style=\"text-align: right;\">\n",
              "      <th></th>\n",
              "      <th>ticker</th>\n",
              "      <th>open</th>\n",
              "      <th>close</th>\n",
              "      <th>adj_close</th>\n",
              "      <th>low</th>\n",
              "      <th>high</th>\n",
              "      <th>volume</th>\n",
              "      <th>date</th>\n",
              "    </tr>\n",
              "  </thead>\n",
              "  <tbody>\n",
              "    <tr>\n",
              "      <th>0</th>\n",
              "      <td>AHH</td>\n",
              "      <td>11.50</td>\n",
              "      <td>11.58</td>\n",
              "      <td>8.493155</td>\n",
              "      <td>11.25</td>\n",
              "      <td>11.68</td>\n",
              "      <td>4633900</td>\n",
              "      <td>2013-05-08</td>\n",
              "    </tr>\n",
              "    <tr>\n",
              "      <th>1</th>\n",
              "      <td>AHH</td>\n",
              "      <td>11.66</td>\n",
              "      <td>11.55</td>\n",
              "      <td>8.471151</td>\n",
              "      <td>11.50</td>\n",
              "      <td>11.66</td>\n",
              "      <td>275800</td>\n",
              "      <td>2013-05-09</td>\n",
              "    </tr>\n",
              "    <tr>\n",
              "      <th>2</th>\n",
              "      <td>AHH</td>\n",
              "      <td>11.55</td>\n",
              "      <td>11.60</td>\n",
              "      <td>8.507822</td>\n",
              "      <td>11.50</td>\n",
              "      <td>11.60</td>\n",
              "      <td>277100</td>\n",
              "      <td>2013-05-10</td>\n",
              "    </tr>\n",
              "    <tr>\n",
              "      <th>3</th>\n",
              "      <td>AHH</td>\n",
              "      <td>11.63</td>\n",
              "      <td>11.65</td>\n",
              "      <td>8.544494</td>\n",
              "      <td>11.55</td>\n",
              "      <td>11.65</td>\n",
              "      <td>147400</td>\n",
              "      <td>2013-05-13</td>\n",
              "    </tr>\n",
              "    <tr>\n",
              "      <th>4</th>\n",
              "      <td>AHH</td>\n",
              "      <td>11.60</td>\n",
              "      <td>11.53</td>\n",
              "      <td>8.456484</td>\n",
              "      <td>11.50</td>\n",
              "      <td>11.60</td>\n",
              "      <td>184100</td>\n",
              "      <td>2013-05-14</td>\n",
              "    </tr>\n",
              "    <tr>\n",
              "      <th>...</th>\n",
              "      <td>...</td>\n",
              "      <td>...</td>\n",
              "      <td>...</td>\n",
              "      <td>...</td>\n",
              "      <td>...</td>\n",
              "      <td>...</td>\n",
              "      <td>...</td>\n",
              "      <td>...</td>\n",
              "    </tr>\n",
              "    <tr>\n",
              "      <th>20973884</th>\n",
              "      <td>NZF</td>\n",
              "      <td>14.60</td>\n",
              "      <td>14.59</td>\n",
              "      <td>14.590000</td>\n",
              "      <td>14.58</td>\n",
              "      <td>14.62</td>\n",
              "      <td>137500</td>\n",
              "      <td>2018-08-20</td>\n",
              "    </tr>\n",
              "    <tr>\n",
              "      <th>20973885</th>\n",
              "      <td>NZF</td>\n",
              "      <td>14.60</td>\n",
              "      <td>14.58</td>\n",
              "      <td>14.580000</td>\n",
              "      <td>14.57</td>\n",
              "      <td>14.61</td>\n",
              "      <td>151200</td>\n",
              "      <td>2018-08-21</td>\n",
              "    </tr>\n",
              "    <tr>\n",
              "      <th>20973886</th>\n",
              "      <td>NZF</td>\n",
              "      <td>14.58</td>\n",
              "      <td>14.59</td>\n",
              "      <td>14.590000</td>\n",
              "      <td>14.57</td>\n",
              "      <td>14.63</td>\n",
              "      <td>185400</td>\n",
              "      <td>2018-08-22</td>\n",
              "    </tr>\n",
              "    <tr>\n",
              "      <th>20973887</th>\n",
              "      <td>NZF</td>\n",
              "      <td>14.60</td>\n",
              "      <td>14.57</td>\n",
              "      <td>14.570000</td>\n",
              "      <td>14.57</td>\n",
              "      <td>14.64</td>\n",
              "      <td>135600</td>\n",
              "      <td>2018-08-23</td>\n",
              "    </tr>\n",
              "    <tr>\n",
              "      <th>20973888</th>\n",
              "      <td>NZF</td>\n",
              "      <td>14.60</td>\n",
              "      <td>14.69</td>\n",
              "      <td>14.690000</td>\n",
              "      <td>14.59</td>\n",
              "      <td>14.69</td>\n",
              "      <td>180900</td>\n",
              "      <td>2018-08-24</td>\n",
              "    </tr>\n",
              "  </tbody>\n",
              "</table>\n",
              "<p>20973889 rows × 8 columns</p>\n",
              "</div>"
            ],
            "text/plain": [
              "         ticker   open  close  adj_close    low   high   volume        date\n",
              "0           AHH  11.50  11.58   8.493155  11.25  11.68  4633900  2013-05-08\n",
              "1           AHH  11.66  11.55   8.471151  11.50  11.66   275800  2013-05-09\n",
              "2           AHH  11.55  11.60   8.507822  11.50  11.60   277100  2013-05-10\n",
              "3           AHH  11.63  11.65   8.544494  11.55  11.65   147400  2013-05-13\n",
              "4           AHH  11.60  11.53   8.456484  11.50  11.60   184100  2013-05-14\n",
              "...         ...    ...    ...        ...    ...    ...      ...         ...\n",
              "20973884    NZF  14.60  14.59  14.590000  14.58  14.62   137500  2018-08-20\n",
              "20973885    NZF  14.60  14.58  14.580000  14.57  14.61   151200  2018-08-21\n",
              "20973886    NZF  14.58  14.59  14.590000  14.57  14.63   185400  2018-08-22\n",
              "20973887    NZF  14.60  14.57  14.570000  14.57  14.64   135600  2018-08-23\n",
              "20973888    NZF  14.60  14.69  14.690000  14.59  14.69   180900  2018-08-24\n",
              "\n",
              "[20973889 rows x 8 columns]"
            ]
          },
          "metadata": {
            "tags": []
          },
          "execution_count": 2
        }
      ]
    },
    {
      "cell_type": "markdown",
      "metadata": {
        "id": "CLZDfWA2xhyw"
      },
      "source": [
        "Vediamo quanti valori nulli ci sono e quanti valori unici ci sono in date e ticker."
      ]
    },
    {
      "cell_type": "code",
      "metadata": {
        "colab": {
          "base_uri": "https://localhost:8080/"
        },
        "id": "pzCB5T4owdkk",
        "outputId": "1c720a89-a3ed-4371-e77b-69a07d09f630"
      },
      "source": [
        "print(\"date unique {}\".format(len(df_1[\"date\"].unique())))\n",
        "print(\"ticker unique {}\".format(len(df_1[\"ticker\"].unique())))\n",
        "for col in df_1.columns:\n",
        "  print(col,df_1[col].isnull().sum())"
      ],
      "execution_count": 3,
      "outputs": [
        {
          "output_type": "stream",
          "text": [
            "date unique 12274\n",
            "ticker unique 5685\n",
            "ticker 0\n",
            "open 0\n",
            "close 0\n",
            "adj_close 0\n",
            "low 0\n",
            "high 0\n",
            "volume 0\n",
            "date 0\n"
          ],
          "name": "stdout"
        }
      ]
    },
    {
      "cell_type": "code",
      "metadata": {
        "colab": {
          "base_uri": "https://localhost:8080/",
          "height": 424
        },
        "id": "6u22VdPFwqUT",
        "outputId": "e5fe6227-3e52-4680-b4fa-9d4821c44629"
      },
      "source": [
        "import pandas as pd\n",
        "df_2 = pd.read_csv(\"./dataset/historical_stocks.csv\")\n",
        "df_2"
      ],
      "execution_count": 4,
      "outputs": [
        {
          "output_type": "execute_result",
          "data": {
            "text/html": [
              "<div>\n",
              "<style scoped>\n",
              "    .dataframe tbody tr th:only-of-type {\n",
              "        vertical-align: middle;\n",
              "    }\n",
              "\n",
              "    .dataframe tbody tr th {\n",
              "        vertical-align: top;\n",
              "    }\n",
              "\n",
              "    .dataframe thead th {\n",
              "        text-align: right;\n",
              "    }\n",
              "</style>\n",
              "<table border=\"1\" class=\"dataframe\">\n",
              "  <thead>\n",
              "    <tr style=\"text-align: right;\">\n",
              "      <th></th>\n",
              "      <th>ticker</th>\n",
              "      <th>exchange</th>\n",
              "      <th>name</th>\n",
              "      <th>sector</th>\n",
              "      <th>industry</th>\n",
              "    </tr>\n",
              "  </thead>\n",
              "  <tbody>\n",
              "    <tr>\n",
              "      <th>0</th>\n",
              "      <td>PIH</td>\n",
              "      <td>NASDAQ</td>\n",
              "      <td>1347 PROPERTY INSURANCE HOLDINGS, INC.</td>\n",
              "      <td>FINANCE</td>\n",
              "      <td>PROPERTY-CASUALTY INSURERS</td>\n",
              "    </tr>\n",
              "    <tr>\n",
              "      <th>1</th>\n",
              "      <td>PIHPP</td>\n",
              "      <td>NASDAQ</td>\n",
              "      <td>1347 PROPERTY INSURANCE HOLDINGS, INC.</td>\n",
              "      <td>FINANCE</td>\n",
              "      <td>PROPERTY-CASUALTY INSURERS</td>\n",
              "    </tr>\n",
              "    <tr>\n",
              "      <th>2</th>\n",
              "      <td>TURN</td>\n",
              "      <td>NASDAQ</td>\n",
              "      <td>180 DEGREE CAPITAL CORP.</td>\n",
              "      <td>FINANCE</td>\n",
              "      <td>FINANCE/INVESTORS SERVICES</td>\n",
              "    </tr>\n",
              "    <tr>\n",
              "      <th>3</th>\n",
              "      <td>FLWS</td>\n",
              "      <td>NASDAQ</td>\n",
              "      <td>1-800 FLOWERS.COM, INC.</td>\n",
              "      <td>CONSUMER SERVICES</td>\n",
              "      <td>OTHER SPECIALTY STORES</td>\n",
              "    </tr>\n",
              "    <tr>\n",
              "      <th>4</th>\n",
              "      <td>FCCY</td>\n",
              "      <td>NASDAQ</td>\n",
              "      <td>1ST CONSTITUTION BANCORP (NJ)</td>\n",
              "      <td>FINANCE</td>\n",
              "      <td>SAVINGS INSTITUTIONS</td>\n",
              "    </tr>\n",
              "    <tr>\n",
              "      <th>...</th>\n",
              "      <td>...</td>\n",
              "      <td>...</td>\n",
              "      <td>...</td>\n",
              "      <td>...</td>\n",
              "      <td>...</td>\n",
              "    </tr>\n",
              "    <tr>\n",
              "      <th>6455</th>\n",
              "      <td>ZOES</td>\n",
              "      <td>NYSE</td>\n",
              "      <td>ZOE&amp;#39;S KITCHEN, INC.</td>\n",
              "      <td>CONSUMER SERVICES</td>\n",
              "      <td>RESTAURANTS</td>\n",
              "    </tr>\n",
              "    <tr>\n",
              "      <th>6456</th>\n",
              "      <td>ZTS</td>\n",
              "      <td>NYSE</td>\n",
              "      <td>ZOETIS INC.</td>\n",
              "      <td>HEALTH CARE</td>\n",
              "      <td>MAJOR PHARMACEUTICALS</td>\n",
              "    </tr>\n",
              "    <tr>\n",
              "      <th>6457</th>\n",
              "      <td>ZTO</td>\n",
              "      <td>NYSE</td>\n",
              "      <td>ZTO EXPRESS (CAYMAN) INC.</td>\n",
              "      <td>TRANSPORTATION</td>\n",
              "      <td>TRUCKING FREIGHT/COURIER SERVICES</td>\n",
              "    </tr>\n",
              "    <tr>\n",
              "      <th>6458</th>\n",
              "      <td>ZUO</td>\n",
              "      <td>NYSE</td>\n",
              "      <td>ZUORA, INC.</td>\n",
              "      <td>TECHNOLOGY</td>\n",
              "      <td>COMPUTER SOFTWARE: PREPACKAGED SOFTWARE</td>\n",
              "    </tr>\n",
              "    <tr>\n",
              "      <th>6459</th>\n",
              "      <td>ZYME</td>\n",
              "      <td>NYSE</td>\n",
              "      <td>ZYMEWORKS INC.</td>\n",
              "      <td>HEALTH CARE</td>\n",
              "      <td>MAJOR PHARMACEUTICALS</td>\n",
              "    </tr>\n",
              "  </tbody>\n",
              "</table>\n",
              "<p>6460 rows × 5 columns</p>\n",
              "</div>"
            ],
            "text/plain": [
              "     ticker  ...                                 industry\n",
              "0       PIH  ...               PROPERTY-CASUALTY INSURERS\n",
              "1     PIHPP  ...               PROPERTY-CASUALTY INSURERS\n",
              "2      TURN  ...               FINANCE/INVESTORS SERVICES\n",
              "3      FLWS  ...                   OTHER SPECIALTY STORES\n",
              "4      FCCY  ...                     SAVINGS INSTITUTIONS\n",
              "...     ...  ...                                      ...\n",
              "6455   ZOES  ...                              RESTAURANTS\n",
              "6456    ZTS  ...                    MAJOR PHARMACEUTICALS\n",
              "6457    ZTO  ...        TRUCKING FREIGHT/COURIER SERVICES\n",
              "6458    ZUO  ...  COMPUTER SOFTWARE: PREPACKAGED SOFTWARE\n",
              "6459   ZYME  ...                    MAJOR PHARMACEUTICALS\n",
              "\n",
              "[6460 rows x 5 columns]"
            ]
          },
          "metadata": {
            "tags": []
          },
          "execution_count": 4
        }
      ]
    },
    {
      "cell_type": "markdown",
      "metadata": {
        "id": "jRh2pyRHxrtN"
      },
      "source": [
        "Vediamo quanti valori unici ci sono di ticker e sector, notiamo che ci sono dei valori nulli."
      ]
    },
    {
      "cell_type": "code",
      "metadata": {
        "colab": {
          "base_uri": "https://localhost:8080/"
        },
        "id": "Ppr3XM-uwsxi",
        "outputId": "85d8656f-5364-4830-ba4f-6945cdae99a9"
      },
      "source": [
        "print(\"ticker unique {}\".format(len(df_2[\"ticker\"].unique())))\n",
        "print(\"sector unique {}\".format(len(df_2[\"sector\"].unique())))\n",
        "for col in df_2.columns:\n",
        "  print(col,df_2[col].isnull().sum())\n",
        "print(\"sector {}\".format(df_2[\"sector\"].unique()))"
      ],
      "execution_count": 5,
      "outputs": [
        {
          "output_type": "stream",
          "text": [
            "ticker unique 6460\n",
            "sector unique 14\n",
            "ticker 0\n",
            "exchange 0\n",
            "name 0\n",
            "sector 1440\n",
            "industry 1440\n",
            "sector ['FINANCE' 'CONSUMER SERVICES' 'TECHNOLOGY' 'PUBLIC UTILITIES'\n",
            " 'CAPITAL GOODS' 'BASIC INDUSTRIES' 'HEALTH CARE' 'CONSUMER DURABLES' nan\n",
            " 'ENERGY' 'MISCELLANEOUS' 'SECTOR' 'TRANSPORTATION'\n",
            " 'CONSUMER NON-DURABLES']\n"
          ],
          "name": "stdout"
        }
      ]
    },
    {
      "cell_type": "markdown",
      "metadata": {
        "id": "26iIJGebx6rR"
      },
      "source": [
        "Notando che ci sono delle virgole nel campo \"name\" e per i vari job andremo a separare i campi con tale carettere, delle righe avranno più campi, quindi togliamo tale carettere in tutti i campi."
      ]
    },
    {
      "cell_type": "code",
      "metadata": {
        "colab": {
          "base_uri": "https://localhost:8080/"
        },
        "id": "Ohxr4xl1wvGk",
        "outputId": "f4630b79-24ed-4f2b-de3f-6c577a05fd21"
      },
      "source": [
        "print(\"name unique {}\".format(len(df_2[\"name\"].unique())))  #Ci sono delle virgole nei nomi quindi rimuoverle cosi da poter fare split con la virgola"
      ],
      "execution_count": 6,
      "outputs": [
        {
          "output_type": "stream",
          "text": [
            "name unique 5462\n"
          ],
          "name": "stdout"
        }
      ]
    },
    {
      "cell_type": "code",
      "metadata": {
        "id": "A1tqb_OtwwF_"
      },
      "source": [
        "df_2[\"ticker\"] = [str(w).replace(',', ' ') for w in df_2[\"ticker\"]]\n",
        "df_2[\"exchange\"] = [str(w).replace(',', ' ') for w in df_2[\"exchange\"]]\n",
        "df_2[\"name\"] = [str(w).replace(',', ' ') for w in df_2[\"name\"]]\n",
        "df_2[\"sector\"] = [str(w).replace(',', ' ') for w in df_2[\"sector\"]]\n",
        "df_2[\"industry\"] = [str(w).replace(',', ' ') for w in df_2[\"industry\"]]"
      ],
      "execution_count": 7,
      "outputs": []
    },
    {
      "cell_type": "code",
      "metadata": {
        "colab": {
          "base_uri": "https://localhost:8080/"
        },
        "id": "pXH9LAp1w1yw",
        "outputId": "6c94ac16-b557-45ad-8647-a77e54cd71e7"
      },
      "source": [
        "print(\"name unique {}\".format(len(df_2[\"name\"].unique())))\n",
        "print(\"name unique {}\".format((df_2[\"name\"].unique())))"
      ],
      "execution_count": 8,
      "outputs": [
        {
          "output_type": "stream",
          "text": [
            "name unique 5462\n",
            "name unique ['1347 PROPERTY INSURANCE HOLDINGS  INC.' '180 DEGREE CAPITAL CORP.'\n",
            " '1-800 FLOWERS.COM  INC.' ... 'ZTO EXPRESS (CAYMAN) INC.' 'ZUORA  INC.'\n",
            " 'ZYMEWORKS INC.']\n"
          ],
          "name": "stdout"
        }
      ]
    },
    {
      "cell_type": "code",
      "metadata": {
        "colab": {
          "base_uri": "https://localhost:8080/",
          "height": 424
        },
        "id": "MBNxA_Lww2Fp",
        "outputId": "8d318abe-3952-4a0b-82a8-6bb58538ba36"
      },
      "source": [
        "df_2"
      ],
      "execution_count": 9,
      "outputs": [
        {
          "output_type": "execute_result",
          "data": {
            "text/html": [
              "<div>\n",
              "<style scoped>\n",
              "    .dataframe tbody tr th:only-of-type {\n",
              "        vertical-align: middle;\n",
              "    }\n",
              "\n",
              "    .dataframe tbody tr th {\n",
              "        vertical-align: top;\n",
              "    }\n",
              "\n",
              "    .dataframe thead th {\n",
              "        text-align: right;\n",
              "    }\n",
              "</style>\n",
              "<table border=\"1\" class=\"dataframe\">\n",
              "  <thead>\n",
              "    <tr style=\"text-align: right;\">\n",
              "      <th></th>\n",
              "      <th>ticker</th>\n",
              "      <th>exchange</th>\n",
              "      <th>name</th>\n",
              "      <th>sector</th>\n",
              "      <th>industry</th>\n",
              "    </tr>\n",
              "  </thead>\n",
              "  <tbody>\n",
              "    <tr>\n",
              "      <th>0</th>\n",
              "      <td>PIH</td>\n",
              "      <td>NASDAQ</td>\n",
              "      <td>1347 PROPERTY INSURANCE HOLDINGS  INC.</td>\n",
              "      <td>FINANCE</td>\n",
              "      <td>PROPERTY-CASUALTY INSURERS</td>\n",
              "    </tr>\n",
              "    <tr>\n",
              "      <th>1</th>\n",
              "      <td>PIHPP</td>\n",
              "      <td>NASDAQ</td>\n",
              "      <td>1347 PROPERTY INSURANCE HOLDINGS  INC.</td>\n",
              "      <td>FINANCE</td>\n",
              "      <td>PROPERTY-CASUALTY INSURERS</td>\n",
              "    </tr>\n",
              "    <tr>\n",
              "      <th>2</th>\n",
              "      <td>TURN</td>\n",
              "      <td>NASDAQ</td>\n",
              "      <td>180 DEGREE CAPITAL CORP.</td>\n",
              "      <td>FINANCE</td>\n",
              "      <td>FINANCE/INVESTORS SERVICES</td>\n",
              "    </tr>\n",
              "    <tr>\n",
              "      <th>3</th>\n",
              "      <td>FLWS</td>\n",
              "      <td>NASDAQ</td>\n",
              "      <td>1-800 FLOWERS.COM  INC.</td>\n",
              "      <td>CONSUMER SERVICES</td>\n",
              "      <td>OTHER SPECIALTY STORES</td>\n",
              "    </tr>\n",
              "    <tr>\n",
              "      <th>4</th>\n",
              "      <td>FCCY</td>\n",
              "      <td>NASDAQ</td>\n",
              "      <td>1ST CONSTITUTION BANCORP (NJ)</td>\n",
              "      <td>FINANCE</td>\n",
              "      <td>SAVINGS INSTITUTIONS</td>\n",
              "    </tr>\n",
              "    <tr>\n",
              "      <th>...</th>\n",
              "      <td>...</td>\n",
              "      <td>...</td>\n",
              "      <td>...</td>\n",
              "      <td>...</td>\n",
              "      <td>...</td>\n",
              "    </tr>\n",
              "    <tr>\n",
              "      <th>6455</th>\n",
              "      <td>ZOES</td>\n",
              "      <td>NYSE</td>\n",
              "      <td>ZOE&amp;#39;S KITCHEN  INC.</td>\n",
              "      <td>CONSUMER SERVICES</td>\n",
              "      <td>RESTAURANTS</td>\n",
              "    </tr>\n",
              "    <tr>\n",
              "      <th>6456</th>\n",
              "      <td>ZTS</td>\n",
              "      <td>NYSE</td>\n",
              "      <td>ZOETIS INC.</td>\n",
              "      <td>HEALTH CARE</td>\n",
              "      <td>MAJOR PHARMACEUTICALS</td>\n",
              "    </tr>\n",
              "    <tr>\n",
              "      <th>6457</th>\n",
              "      <td>ZTO</td>\n",
              "      <td>NYSE</td>\n",
              "      <td>ZTO EXPRESS (CAYMAN) INC.</td>\n",
              "      <td>TRANSPORTATION</td>\n",
              "      <td>TRUCKING FREIGHT/COURIER SERVICES</td>\n",
              "    </tr>\n",
              "    <tr>\n",
              "      <th>6458</th>\n",
              "      <td>ZUO</td>\n",
              "      <td>NYSE</td>\n",
              "      <td>ZUORA  INC.</td>\n",
              "      <td>TECHNOLOGY</td>\n",
              "      <td>COMPUTER SOFTWARE: PREPACKAGED SOFTWARE</td>\n",
              "    </tr>\n",
              "    <tr>\n",
              "      <th>6459</th>\n",
              "      <td>ZYME</td>\n",
              "      <td>NYSE</td>\n",
              "      <td>ZYMEWORKS INC.</td>\n",
              "      <td>HEALTH CARE</td>\n",
              "      <td>MAJOR PHARMACEUTICALS</td>\n",
              "    </tr>\n",
              "  </tbody>\n",
              "</table>\n",
              "<p>6460 rows × 5 columns</p>\n",
              "</div>"
            ],
            "text/plain": [
              "     ticker  ...                                 industry\n",
              "0       PIH  ...               PROPERTY-CASUALTY INSURERS\n",
              "1     PIHPP  ...               PROPERTY-CASUALTY INSURERS\n",
              "2      TURN  ...               FINANCE/INVESTORS SERVICES\n",
              "3      FLWS  ...                   OTHER SPECIALTY STORES\n",
              "4      FCCY  ...                     SAVINGS INSTITUTIONS\n",
              "...     ...  ...                                      ...\n",
              "6455   ZOES  ...                              RESTAURANTS\n",
              "6456    ZTS  ...                    MAJOR PHARMACEUTICALS\n",
              "6457    ZTO  ...        TRUCKING FREIGHT/COURIER SERVICES\n",
              "6458    ZUO  ...  COMPUTER SOFTWARE: PREPACKAGED SOFTWARE\n",
              "6459   ZYME  ...                    MAJOR PHARMACEUTICALS\n",
              "\n",
              "[6460 rows x 5 columns]"
            ]
          },
          "metadata": {
            "tags": []
          },
          "execution_count": 9
        }
      ]
    },
    {
      "cell_type": "markdown",
      "metadata": {
        "id": "g2i0buxYyr8L"
      },
      "source": [
        "Poichè il campo \"sector\" ci servivà per i vari job e contiene dei valori nulli, cerchiamo di inferire il loro valore. L'idea è che siccome un'azienda può avere vari ticker, allora essa può essere su più settori e quindi vi sarà un settore che si ripete più volte. Perciò per ogni ticker (che può essere considerato come un ID) se il valore del campo \"sector\" associato è nullo, tale valore verrà sostituito con il nome del settore che si ripete più volte per l'azienda considerata.\n",
        "Esempio : Due ticker \"x\" ed \"y\" hanno come nome dell'azienda \"a1\" e come settore \"k\", se vi si trova un terzo ticker \"z\" che ha come nome dell'azienda \"a1\" ma un valore nullo nel campo del settore, allora vi si inserirà il valore \"k\", dato che è molto probabile che esso sia il suo valore.\n"
      ]
    },
    {
      "cell_type": "code",
      "metadata": {
        "colab": {
          "base_uri": "https://localhost:8080/",
          "height": 424
        },
        "id": "YlGpf1Hhw4AC",
        "outputId": "4425ff6f-69c4-4277-d4ba-25b26ef52bd0"
      },
      "source": [
        "d = df_2.groupby('name')['sector'].apply(list).reset_index()\n",
        "d"
      ],
      "execution_count": 10,
      "outputs": [
        {
          "output_type": "execute_result",
          "data": {
            "text/html": [
              "<div>\n",
              "<style scoped>\n",
              "    .dataframe tbody tr th:only-of-type {\n",
              "        vertical-align: middle;\n",
              "    }\n",
              "\n",
              "    .dataframe tbody tr th {\n",
              "        vertical-align: top;\n",
              "    }\n",
              "\n",
              "    .dataframe thead th {\n",
              "        text-align: right;\n",
              "    }\n",
              "</style>\n",
              "<table border=\"1\" class=\"dataframe\">\n",
              "  <thead>\n",
              "    <tr style=\"text-align: right;\">\n",
              "      <th></th>\n",
              "      <th>name</th>\n",
              "      <th>sector</th>\n",
              "    </tr>\n",
              "  </thead>\n",
              "  <tbody>\n",
              "    <tr>\n",
              "      <th>0</th>\n",
              "      <td>1-800 FLOWERS.COM  INC.</td>\n",
              "      <td>[CONSUMER SERVICES]</td>\n",
              "    </tr>\n",
              "    <tr>\n",
              "      <th>1</th>\n",
              "      <td>1347 PROPERTY INSURANCE HOLDINGS  INC.</td>\n",
              "      <td>[FINANCE, FINANCE]</td>\n",
              "    </tr>\n",
              "    <tr>\n",
              "      <th>2</th>\n",
              "      <td>180 DEGREE CAPITAL CORP.</td>\n",
              "      <td>[FINANCE]</td>\n",
              "    </tr>\n",
              "    <tr>\n",
              "      <th>3</th>\n",
              "      <td>1ST CONSTITUTION BANCORP (NJ)</td>\n",
              "      <td>[FINANCE]</td>\n",
              "    </tr>\n",
              "    <tr>\n",
              "      <th>4</th>\n",
              "      <td>1ST SOURCE CORPORATION</td>\n",
              "      <td>[FINANCE]</td>\n",
              "    </tr>\n",
              "    <tr>\n",
              "      <th>...</th>\n",
              "      <td>...</td>\n",
              "      <td>...</td>\n",
              "    </tr>\n",
              "    <tr>\n",
              "      <th>5457</th>\n",
              "      <td>ZUMIEZ INC.</td>\n",
              "      <td>[CONSUMER SERVICES]</td>\n",
              "    </tr>\n",
              "    <tr>\n",
              "      <th>5458</th>\n",
              "      <td>ZUORA  INC.</td>\n",
              "      <td>[TECHNOLOGY]</td>\n",
              "    </tr>\n",
              "    <tr>\n",
              "      <th>5459</th>\n",
              "      <td>ZYMEWORKS INC.</td>\n",
              "      <td>[HEALTH CARE]</td>\n",
              "    </tr>\n",
              "    <tr>\n",
              "      <th>5460</th>\n",
              "      <td>ZYNERBA PHARMACEUTICALS  INC.</td>\n",
              "      <td>[HEALTH CARE]</td>\n",
              "    </tr>\n",
              "    <tr>\n",
              "      <th>5461</th>\n",
              "      <td>ZYNGA INC.</td>\n",
              "      <td>[TECHNOLOGY]</td>\n",
              "    </tr>\n",
              "  </tbody>\n",
              "</table>\n",
              "<p>5462 rows × 2 columns</p>\n",
              "</div>"
            ],
            "text/plain": [
              "                                        name               sector\n",
              "0                    1-800 FLOWERS.COM  INC.  [CONSUMER SERVICES]\n",
              "1     1347 PROPERTY INSURANCE HOLDINGS  INC.   [FINANCE, FINANCE]\n",
              "2                   180 DEGREE CAPITAL CORP.            [FINANCE]\n",
              "3              1ST CONSTITUTION BANCORP (NJ)            [FINANCE]\n",
              "4                     1ST SOURCE CORPORATION            [FINANCE]\n",
              "...                                      ...                  ...\n",
              "5457                             ZUMIEZ INC.  [CONSUMER SERVICES]\n",
              "5458                             ZUORA  INC.         [TECHNOLOGY]\n",
              "5459                          ZYMEWORKS INC.        [HEALTH CARE]\n",
              "5460           ZYNERBA PHARMACEUTICALS  INC.        [HEALTH CARE]\n",
              "5461                              ZYNGA INC.         [TECHNOLOGY]\n",
              "\n",
              "[5462 rows x 2 columns]"
            ]
          },
          "metadata": {
            "tags": []
          },
          "execution_count": 10
        }
      ]
    },
    {
      "cell_type": "code",
      "metadata": {
        "colab": {
          "base_uri": "https://localhost:8080/"
        },
        "id": "A-Yxp4izw5mI",
        "outputId": "4699e601-69d1-435f-9495-46c56d9ab36b"
      },
      "source": [
        "d[\"name\"]"
      ],
      "execution_count": 11,
      "outputs": [
        {
          "output_type": "execute_result",
          "data": {
            "text/plain": [
              "0                      1-800 FLOWERS.COM  INC.\n",
              "1       1347 PROPERTY INSURANCE HOLDINGS  INC.\n",
              "2                     180 DEGREE CAPITAL CORP.\n",
              "3                1ST CONSTITUTION BANCORP (NJ)\n",
              "4                       1ST SOURCE CORPORATION\n",
              "                         ...                  \n",
              "5457                               ZUMIEZ INC.\n",
              "5458                               ZUORA  INC.\n",
              "5459                            ZYMEWORKS INC.\n",
              "5460             ZYNERBA PHARMACEUTICALS  INC.\n",
              "5461                                ZYNGA INC.\n",
              "Name: name, Length: 5462, dtype: object"
            ]
          },
          "metadata": {
            "tags": []
          },
          "execution_count": 11
        }
      ]
    },
    {
      "cell_type": "code",
      "metadata": {
        "id": "SVsFq5PRw7eD"
      },
      "source": [
        "from collections import defaultdict\n",
        "def get_max_repeat(l):\n",
        "  d = defaultdict(int)\n",
        "  for k in list(l) :\n",
        "    for j in k:\n",
        "      d[str(j)] += 1\n",
        "  d = dict(sorted((value, key) for (key,value) in d.items())) \n",
        "  return d.get(max(d.keys()))\n"
      ],
      "execution_count": 12,
      "outputs": []
    },
    {
      "cell_type": "code",
      "metadata": {
        "id": "ChfglhQsxBHS"
      },
      "source": [
        "for index, name in enumerate(df_2[\"name\"]) :\n",
        "  if name in list(d[\"name\"]) and  df_2[\"sector\"][index] == \"nan\" : \n",
        "    c = get_max_repeat(d.loc[d['name'] == name][\"sector\"])\n",
        "    if c!=\"nan\" :\n",
        "      df_2[\"sector\"][index] = c"
      ],
      "execution_count": 13,
      "outputs": []
    },
    {
      "cell_type": "code",
      "metadata": {
        "colab": {
          "base_uri": "https://localhost:8080/",
          "height": 424
        },
        "id": "cF5xZ80VxFcW",
        "outputId": "ee8b719c-f061-48b1-90b8-af1fc2a8b8e6"
      },
      "source": [
        "df_2"
      ],
      "execution_count": 14,
      "outputs": [
        {
          "output_type": "execute_result",
          "data": {
            "text/html": [
              "<div>\n",
              "<style scoped>\n",
              "    .dataframe tbody tr th:only-of-type {\n",
              "        vertical-align: middle;\n",
              "    }\n",
              "\n",
              "    .dataframe tbody tr th {\n",
              "        vertical-align: top;\n",
              "    }\n",
              "\n",
              "    .dataframe thead th {\n",
              "        text-align: right;\n",
              "    }\n",
              "</style>\n",
              "<table border=\"1\" class=\"dataframe\">\n",
              "  <thead>\n",
              "    <tr style=\"text-align: right;\">\n",
              "      <th></th>\n",
              "      <th>ticker</th>\n",
              "      <th>exchange</th>\n",
              "      <th>name</th>\n",
              "      <th>sector</th>\n",
              "      <th>industry</th>\n",
              "    </tr>\n",
              "  </thead>\n",
              "  <tbody>\n",
              "    <tr>\n",
              "      <th>0</th>\n",
              "      <td>PIH</td>\n",
              "      <td>NASDAQ</td>\n",
              "      <td>1347 PROPERTY INSURANCE HOLDINGS  INC.</td>\n",
              "      <td>FINANCE</td>\n",
              "      <td>PROPERTY-CASUALTY INSURERS</td>\n",
              "    </tr>\n",
              "    <tr>\n",
              "      <th>1</th>\n",
              "      <td>PIHPP</td>\n",
              "      <td>NASDAQ</td>\n",
              "      <td>1347 PROPERTY INSURANCE HOLDINGS  INC.</td>\n",
              "      <td>FINANCE</td>\n",
              "      <td>PROPERTY-CASUALTY INSURERS</td>\n",
              "    </tr>\n",
              "    <tr>\n",
              "      <th>2</th>\n",
              "      <td>TURN</td>\n",
              "      <td>NASDAQ</td>\n",
              "      <td>180 DEGREE CAPITAL CORP.</td>\n",
              "      <td>FINANCE</td>\n",
              "      <td>FINANCE/INVESTORS SERVICES</td>\n",
              "    </tr>\n",
              "    <tr>\n",
              "      <th>3</th>\n",
              "      <td>FLWS</td>\n",
              "      <td>NASDAQ</td>\n",
              "      <td>1-800 FLOWERS.COM  INC.</td>\n",
              "      <td>CONSUMER SERVICES</td>\n",
              "      <td>OTHER SPECIALTY STORES</td>\n",
              "    </tr>\n",
              "    <tr>\n",
              "      <th>4</th>\n",
              "      <td>FCCY</td>\n",
              "      <td>NASDAQ</td>\n",
              "      <td>1ST CONSTITUTION BANCORP (NJ)</td>\n",
              "      <td>FINANCE</td>\n",
              "      <td>SAVINGS INSTITUTIONS</td>\n",
              "    </tr>\n",
              "    <tr>\n",
              "      <th>...</th>\n",
              "      <td>...</td>\n",
              "      <td>...</td>\n",
              "      <td>...</td>\n",
              "      <td>...</td>\n",
              "      <td>...</td>\n",
              "    </tr>\n",
              "    <tr>\n",
              "      <th>6455</th>\n",
              "      <td>ZOES</td>\n",
              "      <td>NYSE</td>\n",
              "      <td>ZOE&amp;#39;S KITCHEN  INC.</td>\n",
              "      <td>CONSUMER SERVICES</td>\n",
              "      <td>RESTAURANTS</td>\n",
              "    </tr>\n",
              "    <tr>\n",
              "      <th>6456</th>\n",
              "      <td>ZTS</td>\n",
              "      <td>NYSE</td>\n",
              "      <td>ZOETIS INC.</td>\n",
              "      <td>HEALTH CARE</td>\n",
              "      <td>MAJOR PHARMACEUTICALS</td>\n",
              "    </tr>\n",
              "    <tr>\n",
              "      <th>6457</th>\n",
              "      <td>ZTO</td>\n",
              "      <td>NYSE</td>\n",
              "      <td>ZTO EXPRESS (CAYMAN) INC.</td>\n",
              "      <td>TRANSPORTATION</td>\n",
              "      <td>TRUCKING FREIGHT/COURIER SERVICES</td>\n",
              "    </tr>\n",
              "    <tr>\n",
              "      <th>6458</th>\n",
              "      <td>ZUO</td>\n",
              "      <td>NYSE</td>\n",
              "      <td>ZUORA  INC.</td>\n",
              "      <td>TECHNOLOGY</td>\n",
              "      <td>COMPUTER SOFTWARE: PREPACKAGED SOFTWARE</td>\n",
              "    </tr>\n",
              "    <tr>\n",
              "      <th>6459</th>\n",
              "      <td>ZYME</td>\n",
              "      <td>NYSE</td>\n",
              "      <td>ZYMEWORKS INC.</td>\n",
              "      <td>HEALTH CARE</td>\n",
              "      <td>MAJOR PHARMACEUTICALS</td>\n",
              "    </tr>\n",
              "  </tbody>\n",
              "</table>\n",
              "<p>6460 rows × 5 columns</p>\n",
              "</div>"
            ],
            "text/plain": [
              "     ticker  ...                                 industry\n",
              "0       PIH  ...               PROPERTY-CASUALTY INSURERS\n",
              "1     PIHPP  ...               PROPERTY-CASUALTY INSURERS\n",
              "2      TURN  ...               FINANCE/INVESTORS SERVICES\n",
              "3      FLWS  ...                   OTHER SPECIALTY STORES\n",
              "4      FCCY  ...                     SAVINGS INSTITUTIONS\n",
              "...     ...  ...                                      ...\n",
              "6455   ZOES  ...                              RESTAURANTS\n",
              "6456    ZTS  ...                    MAJOR PHARMACEUTICALS\n",
              "6457    ZTO  ...        TRUCKING FREIGHT/COURIER SERVICES\n",
              "6458    ZUO  ...  COMPUTER SOFTWARE: PREPACKAGED SOFTWARE\n",
              "6459   ZYME  ...                    MAJOR PHARMACEUTICALS\n",
              "\n",
              "[6460 rows x 5 columns]"
            ]
          },
          "metadata": {
            "tags": []
          },
          "execution_count": 14
        }
      ]
    },
    {
      "cell_type": "code",
      "metadata": {
        "colab": {
          "base_uri": "https://localhost:8080/"
        },
        "id": "vTbWVN5ZxGCt",
        "outputId": "e7fd5560-e808-46af-c194-afab249099aa"
      },
      "source": [
        "print(\"ticker unique {}\".format(len(df_2[\"ticker\"].unique())))\n",
        "print(\"sector unique {}\".format(len(df_2[\"sector\"].unique())))\n",
        "for col in df_2.columns:\n",
        "  print(col,df_2[col].isnull().sum())\n",
        "print(\"sector unique {}\".format(df_2[\"sector\"].unique()))"
      ],
      "execution_count": 15,
      "outputs": [
        {
          "output_type": "stream",
          "text": [
            "ticker unique 6460\n",
            "sector unique 14\n",
            "ticker 0\n",
            "exchange 0\n",
            "name 0\n",
            "sector 0\n",
            "industry 0\n",
            "sector unique ['FINANCE' 'CONSUMER SERVICES' 'TECHNOLOGY' 'PUBLIC UTILITIES'\n",
            " 'CAPITAL GOODS' 'BASIC INDUSTRIES' 'HEALTH CARE' 'CONSUMER DURABLES'\n",
            " 'nan' 'ENERGY' 'MISCELLANEOUS' 'SECTOR' 'TRANSPORTATION'\n",
            " 'CONSUMER NON-DURABLES']\n"
          ],
          "name": "stdout"
        }
      ]
    },
    {
      "cell_type": "markdown",
      "metadata": {
        "id": "1X3FDjZk8T0v"
      },
      "source": [
        "Da notare che i valori nulli nel campo sector sono diventati \"nan\", in modo tale che per tecnologia che si userà, basterà individuare il valore \"nan\" per filtrare i valori nulli."
      ]
    },
    {
      "cell_type": "code",
      "metadata": {
        "id": "GdIKvqE8xIzF"
      },
      "source": [
        "df_2.to_csv(\"./dataset/clean_hs.csv\", sep=\",\")"
      ],
      "execution_count": null,
      "outputs": []
    }
  ]
}